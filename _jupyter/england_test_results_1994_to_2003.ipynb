{
 "cells": [
  {
   "cell_type": "markdown",
   "metadata": {},
   "source": [
    "## **Test Cricket - How bad were England between 1994 and 2003?**\n",
    "\n",
    "### **Introduction - Why this question?**\n",
    "\n",
    "A recent [ESPNCricinfo article](http://www.espncricinfo.com/story/_/id/24128428/dale-steyn-greatest-fast-bowler-century \"ESPNCricinfo Dale Steyn article\") debating Dale Steyn's place in the fast bowlers pantheon caught my attention.  Not for the mass of stats thrown out to prove the writers point that Dale could well be the Greatest Of All Time (though there were indeed a lot of stats thrown), but for a line dismissing the acheivements of Glenn McGrath, his closest modern day rival for that title.  The full quote, with the offending line in bold:\n",
    ">'ESPNcricinfo's jury panel recently voted in McGrath as the right-arm quick in our Test team of the last 25 years, but given the above numbers, I would replace McGrath with Steyn, owing not only to Steyn's prowess on the toughest continent for quicks, but also because of the value he adds via his strike rate. **A full fifth of McGrath's wickets had also come against minnows, by which of course I mean England 1994 through 2003.**'\n",
    "\n",
    "The line may well be intentionally provocative or just tongue in cheek, but it got me thinking, how bad _were_ England in this era? Lets take a closer look.   "
   ]
  },
  {
   "cell_type": "markdown",
   "metadata": {
    "collapsed": true
   },
   "source": [
    "### **Methodology**\n",
    "\n",
    "ESPNCricinfo has an excellent searchable archive engine called Statsguru, from which I ran the appropriate searches to get our raw data.  I've created a very similar function to that in my PGA Putting Analysis blog post, where the URL's of these search results can be inputted into the function and a dataframe is returned.  The resulting dataframes will then be merged and cleaned for analysis."
   ]
  },
  {
   "cell_type": "code",
   "execution_count": 1,
   "metadata": {
    "collapsed": true
   },
   "outputs": [],
   "source": [
    "#Import required modules\n",
    "import requests\n",
    "from bs4 import BeautifulSoup as soup\n",
    "import pandas as pd"
   ]
  },
  {
   "cell_type": "code",
   "execution_count": 2,
   "metadata": {
    "collapsed": true
   },
   "outputs": [],
   "source": [
    "#Function\n",
    "def statsguru_url_to_df(url):\n",
    "    \"\"\"Turn a statsguru stats page url into a DataFrame\"\"\"\n",
    "    #Package the request, send request, catch response: r\n",
    "    r = requests.get(url)\n",
    "    #Extract the response as HTML: html_doc\n",
    "    html_doc = r.text\n",
    "    #Create our Beautiful Soup object from the HTML: main_soup\n",
    "    main_soup = soup(html_doc, 'lxml')\n",
    "    \n",
    "    #Find our table in the soup. There are a number of tables in the soup and unfortunately they dont have distinguishable attributes\n",
    "    all_tables = main_soup.find_all('table')\n",
    "    \n",
    "    #It turns out our required table is the 3rd in the list. NOTE - not robust if site changes format of the page in future\n",
    "    stat_table = all_tables[2]\n",
    "    #Find elements in the 'body' of the table\n",
    "    stat_table_body = stat_table.find('tbody')\n",
    "    \n",
    "    #Initialize an empty array\n",
    "    stat_data = []\n",
    "    \n",
    "    #Filter for the rows in the table body\n",
    "    rows = stat_table_body('tr')\n",
    "    for match in rows:\n",
    "        #select all cells in the row\n",
    "        cols = match.find_all('td')\n",
    "        #Strip out empty values\n",
    "        cols = [ele.text.strip() for ele in cols]\n",
    "        #Append data to our array\n",
    "        stat_data.append([ele for ele in cols if ele])\n",
    "        \n",
    "    #Sort the table header, using same process as above for the table body\n",
    "    stat_table_header = stat_table.find('thead')\n",
    "    stat_header = []\n",
    "    hrows = stat_table_header('tr')\n",
    "    for header in hrows:\n",
    "        cols = header.find_all('th')\n",
    "        cols = [ele.text.strip() for ele in cols]\n",
    "        #Append data to our array\n",
    "        stat_header.append([ele for ele in cols if ele])\n",
    "\n",
    "    #Create our header array\n",
    "    stat_col_labels = stat_header[0]\n",
    "    \n",
    "    #Return a DataFrame of the data\n",
    "    return pd.DataFrame(stat_data, columns=stat_col_labels)"
   ]
  },
  {
   "cell_type": "markdown",
   "metadata": {},
   "source": [
    "Lets use this function by inputting the URL's from our Statsguru search results, then merge the resulting DataFrames."
   ]
  },
  {
   "cell_type": "code",
   "execution_count": 3,
   "metadata": {},
   "outputs": [
    {
     "name": "stdout",
     "output_type": "stream",
     "text": [
      "           Team Result           Margin  Toss  Bat      Opposition     Ground  \\\n",
      "0  South Africa    won           5 runs   won  1st     v Australia     Sydney   \n",
      "1     Australia   lost           5 runs  lost  2nd  v South Africa     Sydney   \n",
      "2         India    won  inns & 119 runs   won  1st     v Sri Lanka    Lucknow   \n",
      "3     Sri Lanka   lost  inns & 119 runs  lost  2nd         v India    Lucknow   \n",
      "4         India    won   inns & 95 runs   won  1st     v Sri Lanka  Bengaluru   \n",
      "\n",
      "    Start Date  \n",
      "0   2 Jan 1994  \n",
      "1   2 Jan 1994  \n",
      "2  18 Jan 1994  \n",
      "3  18 Jan 1994  \n",
      "4  26 Jan 1994  \n",
      "(794, 8)\n",
      "<class 'pandas.core.frame.DataFrame'>\n",
      "Int64Index: 794 entries, 0 to 193\n",
      "Data columns (total 8 columns):\n",
      "Team          794 non-null object\n",
      "Result        794 non-null object\n",
      "Margin        794 non-null object\n",
      "Toss          794 non-null object\n",
      "Bat           794 non-null object\n",
      "Opposition    794 non-null object\n",
      "Ground        794 non-null object\n",
      "Start Date    794 non-null object\n",
      "dtypes: object(8)\n",
      "memory usage: 55.8+ KB\n",
      "None\n"
     ]
    }
   ],
   "source": [
    "#Use our function to get Englands results v all teams 1994-2003    \n",
    "url_1 = 'http://stats.espncricinfo.com/ci/engine/stats/index.html?class=1;filter=advanced;orderby=start;size=200;spanmax1=01+Jan+2003;spanmin1=01+Jan+1994;spanval1=span;template=results;type=team;view=results'\n",
    "all_results_df_1 = statsguru_url_to_df(url_1)\n",
    "url_2 = 'http://stats.espncricinfo.com/ci/engine/stats/index.html?class=1;filter=advanced;orderby=start;page=2;size=200;spanmax1=01+Jan+2003;spanmin1=01+Jan+1994;spanval1=span;template=results;type=team;view=results'\n",
    "all_results_df_2 = statsguru_url_to_df(url_2)\n",
    "url_3 = 'http://stats.espncricinfo.com/ci/engine/stats/index.html?class=1;filter=advanced;orderby=start;page=3;size=200;spanmax1=01+Jan+2003;spanmin1=01+Jan+1994;spanval1=span;template=results;type=team;view=results'\n",
    "all_results_df_3 = statsguru_url_to_df(url_3)\n",
    "url_4 = 'http://stats.espncricinfo.com/ci/engine/stats/index.html?class=1;filter=advanced;orderby=start;page=4;size=200;spanmax1=01+Jan+2003;spanmin1=01+Jan+1994;spanval1=span;template=results;type=team;view=results'\n",
    "all_results_df_4 = statsguru_url_to_df(url_4)\n",
    "\n",
    "#Concatenate these 4 DFs into a single DF\n",
    "all_results = [all_results_df_1, all_results_df_2, all_results_df_3, all_results_df_4]\n",
    "all_results_df = pd.concat(all_results)\n",
    "print(all_results_df.head())\n",
    "print(all_results_df.shape)\n",
    "print(all_results_df.info())"
   ]
  },
  {
   "cell_type": "markdown",
   "metadata": {},
   "source": [
    "Now I'll clean up the DataFrame so it contains the required data in a meaningful form."
   ]
  },
  {
   "cell_type": "code",
   "execution_count": 4,
   "metadata": {},
   "outputs": [
    {
     "name": "stdout",
     "output_type": "stream",
     "text": [
      "           Team Result\n",
      "0  South Africa    won\n",
      "1     Australia   lost\n",
      "2         India    won\n",
      "3     Sri Lanka   lost\n",
      "4         India    won\n",
      "Team          Result\n",
      "Australia     won       62\n",
      "              lost      22\n",
      "              draw      17\n",
      "Bangladesh    lost      16\n",
      "              draw       1\n",
      "England       lost      41\n",
      "              draw      36\n",
      "              won       30\n",
      "India         draw      29\n",
      "              lost      26\n",
      "              won       25\n",
      "              aban       1\n",
      "New Zealand   lost      29\n",
      "              draw      28\n",
      "              won       22\n",
      "              aban       1\n",
      "              canc       1\n",
      "Pakistan      won       35\n",
      "              lost      27\n",
      "              draw      20\n",
      "              canc       2\n",
      "              aban       1\n",
      "South Africa  won       45\n",
      "              draw      25\n",
      "              lost      20\n",
      "Sri Lanka     lost      29\n",
      "              won       28\n",
      "              draw      22\n",
      "              canc       1\n",
      "West Indies   lost      41\n",
      "              won       28\n",
      "              draw      24\n",
      "Zimbabwe      lost      31\n",
      "              draw      20\n",
      "              won        7\n",
      "              aban       1\n",
      "Name: Result, dtype: int64\n",
      "Result        aban  canc  draw  lost   won\n",
      "Team                                      \n",
      "Australia      NaN   NaN  17.0  22.0  62.0\n",
      "Bangladesh     NaN   NaN   1.0  16.0   NaN\n",
      "England        NaN   NaN  36.0  41.0  30.0\n",
      "India          1.0   NaN  29.0  26.0  25.0\n",
      "New Zealand    1.0   1.0  28.0  29.0  22.0\n",
      "Pakistan       1.0   2.0  20.0  27.0  35.0\n",
      "South Africa   NaN   NaN  25.0  20.0  45.0\n",
      "Sri Lanka      NaN   1.0  22.0  29.0  28.0\n",
      "West Indies    NaN   NaN  24.0  41.0  28.0\n",
      "Zimbabwe       1.0   NaN  20.0  31.0   7.0\n",
      "Result        draw  lost  won\n",
      "Team                         \n",
      "Australia       17    22   62\n",
      "Bangladesh       1    16    0\n",
      "England         36    41   30\n",
      "India           29    26   25\n",
      "New Zealand     28    29   22\n",
      "Pakistan        20    27   35\n",
      "South Africa    25    20   45\n",
      "Sri Lanka       22    29   28\n",
      "West Indies     24    41   28\n",
      "Zimbabwe        20    31    7\n",
      "Result        draw  lost  won  Total  draw_rate  loss_rate  win_rate\n",
      "Team                                                                \n",
      "Australia       17    22   62    101   0.168317   0.217822  0.613861\n",
      "Bangladesh       1    16    0     17   0.058824   0.941176  0.000000\n",
      "England         36    41   30    107   0.336449   0.383178  0.280374\n",
      "India           29    26   25     80   0.362500   0.325000  0.312500\n",
      "New Zealand     28    29   22     79   0.354430   0.367089  0.278481\n",
      "Pakistan        20    27   35     82   0.243902   0.329268  0.426829\n",
      "South Africa    25    20   45     90   0.277778   0.222222  0.500000\n",
      "Sri Lanka       22    29   28     79   0.278481   0.367089  0.354430\n",
      "West Indies     24    41   28     93   0.258065   0.440860  0.301075\n",
      "Zimbabwe        20    31    7     58   0.344828   0.534483  0.120690\n"
     ]
    }
   ],
   "source": [
    "#Select our required columns\n",
    "all_results_df = all_results_df.loc[:, ('Team', 'Result')]\n",
    "print(all_results_df.head())\n",
    "\n",
    "#Reshape the data. First sort results into relevant groups\n",
    "all_grouped = all_results_df.groupby(['Team'])['Result'].value_counts()\n",
    "print(all_grouped)\n",
    "\n",
    "#Turn this into a dataframe by unstacking our groupby object\n",
    "all_group_df = all_grouped.unstack()\n",
    "print(all_group_df)\n",
    "\n",
    "#Note - we have a hierarchical index here\n",
    "#Lets deal with our NaN values. 'aban' and 'canc' matches can be disregarded for this analysis. Just for practice we will deal with them using .dropna()\n",
    "all_cleanish_group_df = all_group_df.dropna(axis ='columns', thresh=5)\n",
    "\n",
    "#Bangladesh didnt win a test in the period, so this NaN needs replacing as 0\n",
    "all_cleaner_group_df = all_cleanish_group_df.fillna(0)\n",
    "\n",
    "#We will convert to integers from floating point values as in this case it makes sense, you cant win a fraction a match.\n",
    "all_final_df = all_cleaner_group_df.astype('int64')\n",
    "print(all_final_df)\n",
    "\n",
    "#Lets put it into ratios. We'll start by adding a total matches column\n",
    "all_final_df['Total'] = all_final_df['draw'] + all_final_df['lost'] + all_final_df['won']\n",
    "\n",
    "#Then create the ratio columns\n",
    "all_final_df['draw_rate'] = all_final_df['draw'] / all_final_df['Total']\n",
    "all_final_df['loss_rate'] = all_final_df['lost'] / all_final_df['Total']\n",
    "all_final_df['win_rate'] = all_final_df['won'] / all_final_df['Total']\n",
    "print(all_final_df)"
   ]
  },
  {
   "cell_type": "markdown",
   "metadata": {},
   "source": [
    "### **Analysis**\n",
    "\n",
    "Now we have our cleaned up DataFrame lets do some simple empirical data analysis (EDA) and look at some descriptive stats."
   ]
  },
  {
   "cell_type": "code",
   "execution_count": 5,
   "metadata": {},
   "outputs": [
    {
     "name": "stdout",
     "output_type": "stream",
     "text": [
      "Result       draw      lost        won       Total  draw_rate  loss_rate  \\\n",
      "count   10.000000  10.00000  10.000000   10.000000  10.000000  10.000000   \n",
      "mean    22.200000  28.20000  28.200000   78.600000   0.268357   0.412819   \n",
      "std      9.235198   8.14862  17.535995   25.556908   0.095198   0.207861   \n",
      "min      1.000000  16.00000   0.000000   17.000000   0.058824   0.217822   \n",
      "25%     20.000000  23.00000  22.750000   79.000000   0.247443   0.326067   \n",
      "50%     23.000000  28.00000  28.000000   81.000000   0.278129   0.367089   \n",
      "75%     27.250000  30.50000  33.750000   92.250000   0.342733   0.426440   \n",
      "max     36.000000  41.00000  62.000000  107.000000   0.362500   0.941176   \n",
      "\n",
      "Result   win_rate  \n",
      "count   10.000000  \n",
      "mean     0.318824  \n",
      "std      0.175490  \n",
      "min      0.000000  \n",
      "25%      0.278954  \n",
      "50%      0.306788  \n",
      "75%      0.408730  \n",
      "max      0.613861  \n"
     ]
    }
   ],
   "source": [
    "#Summary stats\n",
    "print(all_final_df.describe())"
   ]
  },
  {
   "cell_type": "markdown",
   "metadata": {},
   "source": [
    "England have a mean win rate of 0.280, which is slightly worse than the overall mean (0.319) and median (0.307) win rates. Their loss rate of 0.383 (a lower number here is better) is slightly worse than the median loss rate (0.367), but better than the mean loss rate (0.413), though Bangladesh do skew the means somewhat as they had just started playing test cricket and were on the whole very uncompetitive."
   ]
  },
  {
   "cell_type": "code",
   "execution_count": 6,
   "metadata": {},
   "outputs": [
    {
     "data": {
      "image/png": "[encoded data removed]",
      "text/plain": [
       "<matplotlib.figure.Figure at 0xba51860>"
      ]
     },
     "metadata": {},
     "output_type": "display_data"
    }
   ],
   "source": [
    "#Lets do some graphical EDA.\n",
    "import matplotlib.pyplot as plt\n",
    "import seaborn as sns\n",
    "\n",
    "#Set Seaborn as default\n",
    "sns.set()\n",
    "\n",
    "#Create a bar plot\n",
    "all_final_df.plot(y=['draw_rate', 'loss_rate', 'win_rate'], kind='bar')\n",
    "#Add a line for the mean win rate of the data\n",
    "plt.axhline(y=all_final_df['win_rate'].mean(), color='red', linewidth=1, label='win_rate mean', linestyle='--')\n",
    "plt.xlabel('Team')\n",
    "plt.ylabel('Count')\n",
    "plt.legend(loc='upper right')\n",
    "plt.title('Test Results by Country, 1994-2003')\n",
    "plt.margins(0.02)\n",
    "plt.show()"
   ]
  },
  {
   "cell_type": "markdown",
   "metadata": {},
   "source": [
    "### **Thoughts**\n",
    "\n",
    "We can see clearly that Australia have by far the largest win rate, twice that of the mean, while the limitations of Bangladesh during the era are also obvious.  \n",
    "\n",
    "Australia, South Africa, Pakistan and Sri Lanka clearly have better records than England, as do India though to a lesser extent. England look to have a roughly similar record to New Zealand and the West Indies. They are only obviously better than Zimbabwe and Bangladesh.  Does this make them minnows during the period? Probably not, though they were certainly a sub par team.\n",
    "\n",
    "But is this the whole story? \n",
    "\n",
    "### **More Thoughts**\n",
    "\n",
    "During this period England played Australia (as we've seen, clearly the best team in the world at the time) 25 times, nearly a quarter of all their matches.  Thats more than any other team played Australia.  Also England played no tests at all against Bangladesh who didn't win a single game out of the 17 they played in this era.  What if we repeated the analysis removing all results involving Australia and Bangladesh, in a crude effort to equalize the difficulty of the schedules? Lets do that now."
   ]
  },
  {
   "cell_type": "code",
   "execution_count": 7,
   "metadata": {},
   "outputs": [
    {
     "name": "stdout",
     "output_type": "stream",
     "text": [
      "        Team Result           Margin  Toss  Bat   Opposition     Ground  \\\n",
      "0      India    won  inns & 119 runs   won  1st  v Sri Lanka    Lucknow   \n",
      "1  Sri Lanka   lost  inns & 119 runs  lost  2nd      v India    Lucknow   \n",
      "2      India    won   inns & 95 runs   won  1st  v Sri Lanka  Bengaluru   \n",
      "3  Sri Lanka   lost   inns & 95 runs  lost  2nd      v India  Bengaluru   \n",
      "4      India    won   inns & 17 runs  lost  2nd  v Sri Lanka  Ahmedabad   \n",
      "\n",
      "    Start Date  \n",
      "0  18 Jan 1994  \n",
      "1  18 Jan 1994  \n",
      "2  26 Jan 1994  \n",
      "3  26 Jan 1994  \n",
      "4   8 Feb 1994  \n",
      "(558, 8)\n",
      "<class 'pandas.core.frame.DataFrame'>\n",
      "Int64Index: 558 entries, 0 to 157\n",
      "Data columns (total 8 columns):\n",
      "Team          558 non-null object\n",
      "Result        558 non-null object\n",
      "Margin        558 non-null object\n",
      "Toss          558 non-null object\n",
      "Bat           558 non-null object\n",
      "Opposition    558 non-null object\n",
      "Ground        558 non-null object\n",
      "Start Date    558 non-null object\n",
      "dtypes: object(8)\n",
      "memory usage: 39.2+ KB\n",
      "None\n"
     ]
    }
   ],
   "source": [
    "#Use our function to get all non-Australia/Bangladesh results 1994-2003    \n",
    "urls_1 = 'http://stats.espncricinfo.com/ci/engine/stats/index.html?class=1;filter=advanced;opposition=1;opposition=3;opposition=4;opposition=5;opposition=6;opposition=7;opposition=8;opposition=9;orderby=start;size=200;spanmax1=01+Jan+2003;spanmin1=01+Jan+1994;spanval1=span;team=1;team=3;team=4;team=5;team=6;team=7;team=8;team=9;template=results;type=team;view=results;wrappertype=print'\n",
    "filter_results_df_1 = statsguru_url_to_df(urls_1)\n",
    "urls_2 = 'http://stats.espncricinfo.com/ci/engine/stats/index.html?class=1;filter=advanced;opposition=1;opposition=3;opposition=4;opposition=5;opposition=6;opposition=7;opposition=8;opposition=9;orderby=start;page=2;size=200;spanmax1=01+Jan+2003;spanmin1=01+Jan+1994;spanval1=span;team=1;team=3;team=4;team=5;team=6;team=7;team=8;team=9;template=results;type=team;view=results;wrappertype=print'\n",
    "filter_results_df_2 = statsguru_url_to_df(urls_2)\n",
    "urls_3 = 'http://stats.espncricinfo.com/ci/engine/stats/index.html?class=1;filter=advanced;opposition=1;opposition=3;opposition=4;opposition=5;opposition=6;opposition=7;opposition=8;opposition=9;orderby=start;page=3;size=200;spanmax1=01+Jan+2003;spanmin1=01+Jan+1994;spanval1=span;team=1;team=3;team=4;team=5;team=6;team=7;team=8;team=9;template=results;type=team;view=results;wrappertype=print'\n",
    "filter_results_df_3 = statsguru_url_to_df(urls_3)\n",
    "\n",
    "#Concatenate these 3 DFs into a single DF\n",
    "filter_results  = [filter_results_df_1, filter_results_df_2, filter_results_df_3]\n",
    "filter_results_df = pd.concat(filter_results)\n",
    "print(filter_results_df.head())\n",
    "print(filter_results_df.shape)\n",
    "print(filter_results_df.info())"
   ]
  },
  {
   "cell_type": "markdown",
   "metadata": {},
   "source": [
    "Now to clean the data."
   ]
  },
  {
   "cell_type": "code",
   "execution_count": 8,
   "metadata": {},
   "outputs": [
    {
     "name": "stdout",
     "output_type": "stream",
     "text": [
      "        Team Result\n",
      "0      India    won\n",
      "1  Sri Lanka   lost\n",
      "2      India    won\n",
      "3  Sri Lanka   lost\n",
      "4      India    won\n",
      "Team          Result\n",
      "England       draw      33\n",
      "              won       25\n",
      "              lost      24\n",
      "India         draw      29\n",
      "              lost      21\n",
      "              won       19\n",
      "              aban       1\n",
      "New Zealand   draw      24\n",
      "              lost      24\n",
      "              won       20\n",
      "              aban       1\n",
      "              canc       1\n",
      "Pakistan      won       30\n",
      "              lost      18\n",
      "              draw      16\n",
      "              canc       2\n",
      "              aban       1\n",
      "South Africa  won       39\n",
      "              draw      22\n",
      "              lost      10\n",
      "Sri Lanka     lost      26\n",
      "              won       24\n",
      "              draw      20\n",
      "              canc       1\n",
      "West Indies   lost      29\n",
      "              draw      23\n",
      "              won       21\n",
      "Zimbabwe      lost      30\n",
      "              draw      19\n",
      "              won        4\n",
      "              aban       1\n",
      "Name: Result, dtype: int64\n",
      "Result        aban  canc  draw  lost   won\n",
      "Team                                      \n",
      "England        NaN   NaN  33.0  24.0  25.0\n",
      "India          1.0   NaN  29.0  21.0  19.0\n",
      "New Zealand    1.0   1.0  24.0  24.0  20.0\n",
      "Pakistan       1.0   2.0  16.0  18.0  30.0\n",
      "South Africa   NaN   NaN  22.0  10.0  39.0\n",
      "Sri Lanka      NaN   1.0  20.0  26.0  24.0\n",
      "West Indies    NaN   NaN  23.0  29.0  21.0\n",
      "Zimbabwe       1.0   NaN  19.0  30.0   4.0\n",
      "Result        draw  lost  won\n",
      "Team                         \n",
      "England         33    24   25\n",
      "India           29    21   19\n",
      "New Zealand     24    24   20\n",
      "Pakistan        16    18   30\n",
      "South Africa    22    10   39\n",
      "Sri Lanka       20    26   24\n",
      "West Indies     23    29   21\n",
      "Zimbabwe        19    30    4\n",
      "Result        draw  lost  won  Total  draw_rate  loss_rate  win_rate\n",
      "Team                                                                \n",
      "England         33    24   25     82   0.402439   0.292683  0.304878\n",
      "India           29    21   19     69   0.420290   0.304348  0.275362\n",
      "New Zealand     24    24   20     68   0.352941   0.352941  0.294118\n",
      "Pakistan        16    18   30     64   0.250000   0.281250  0.468750\n",
      "South Africa    22    10   39     71   0.309859   0.140845  0.549296\n",
      "Sri Lanka       20    26   24     70   0.285714   0.371429  0.342857\n",
      "West Indies     23    29   21     73   0.315068   0.397260  0.287671\n",
      "Zimbabwe        19    30    4     53   0.358491   0.566038  0.075472\n"
     ]
    }
   ],
   "source": [
    "#Select our required columns\n",
    "filter_results_df = filter_results_df.loc[:, ('Team', 'Result')]\n",
    "print(filter_results_df.head())\n",
    "\n",
    "#Reshape the data. First sort results into relevant groups\n",
    "filter_grouped = filter_results_df.groupby(['Team'])['Result'].value_counts()\n",
    "print(filter_grouped)\n",
    "\n",
    "#Turn this into a dataframe by unstacking our groupby object\n",
    "filter_group_df = filter_grouped.unstack()\n",
    "print(filter_group_df)\n",
    "\n",
    "#Note - we have a hierarchical index here\n",
    "#Lets deal with our NaN values. 'aban' and 'canc' matches can be disregarded for this analysis. Just for practice we will deal with them using .dropna()\n",
    "filter_cleanish_group_df = filter_group_df.dropna(axis ='columns', thresh=5)\n",
    "\n",
    "#Bangladesh didnt win a test in the period, so this NaN needs replacing as 0\n",
    "filter_cleaner_group_df = filter_cleanish_group_df.fillna(0)\n",
    "\n",
    "#Convert to integers from floating point values as in this case it makes sense, you cant win half a match.\n",
    "filter_final_df = filter_cleaner_group_df.astype('int64')\n",
    "print(filter_final_df)\n",
    "\n",
    "#Lets put it into ratios. We'll start by adding a total matches column\n",
    "filter_final_df['Total'] = filter_final_df['draw'] + filter_final_df['lost'] + filter_final_df['won']\n",
    "\n",
    "#Then create the ratio columns\n",
    "filter_final_df['draw_rate'] = filter_final_df['draw'] / filter_final_df['Total']\n",
    "filter_final_df['loss_rate'] = filter_final_df['lost'] / filter_final_df['Total']\n",
    "filter_final_df['win_rate'] = filter_final_df['won'] / filter_final_df['Total']\n",
    "print(filter_final_df)"
   ]
  },
  {
   "cell_type": "markdown",
   "metadata": {},
   "source": [
    "### **New Analysis**\n",
    "\n",
    "So what does this new analysis show?"
   ]
  },
  {
   "cell_type": "code",
   "execution_count": 9,
   "metadata": {},
   "outputs": [
    {
     "name": "stdout",
     "output_type": "stream",
     "text": [
      "Result       draw       lost        won     Total  draw_rate  loss_rate  \\\n",
      "count    8.000000   8.000000   8.000000   8.00000   8.000000   8.000000   \n",
      "mean    23.250000  22.750000  22.750000  68.75000   0.336850   0.338349   \n",
      "std      5.496752   6.475228   9.996428   8.20714   0.057758   0.120789   \n",
      "min     16.000000  10.000000   4.000000  53.00000   0.250000   0.140845   \n",
      "25%     19.750000  20.250000  19.750000  67.00000   0.303823   0.289825   \n",
      "50%     22.500000  24.000000  22.500000  69.50000   0.334005   0.328645   \n",
      "75%     25.250000  26.750000  26.250000  71.50000   0.369478   0.377886   \n",
      "max     33.000000  30.000000  39.000000  82.00000   0.420290   0.566038   \n",
      "\n",
      "Result  win_rate  \n",
      "count   8.000000  \n",
      "mean    0.324800  \n",
      "std     0.140800  \n",
      "min     0.075472  \n",
      "25%     0.284594  \n",
      "50%     0.299498  \n",
      "75%     0.374330  \n",
      "max     0.549296  \n"
     ]
    }
   ],
   "source": [
    "#Summary stats\n",
    "print(filter_final_df.describe())"
   ]
  },
  {
   "cell_type": "code",
   "execution_count": 10,
   "metadata": {},
   "outputs": [
    {
     "data": {
      "image/png": "[encoded data removed]",
      "text/plain": [
       "<matplotlib.figure.Figure at 0xb6311d0>"
      ]
     },
     "metadata": {},
     "output_type": "display_data"
    }
   ],
   "source": [
    "#Our new bar plot\n",
    "filter_final_df.plot(y=['draw_rate', 'loss_rate', 'win_rate'], kind='bar')\n",
    "#Add a line for the mean win rate of the data\n",
    "plt.axhline(y=filter_final_df['win_rate'].mean(), color='red', linewidth=1, label='win_rate mean', linestyle='--')\n",
    "plt.xlabel('Team')\n",
    "plt.ylabel('Rate')\n",
    "plt.title('Test Results by Country (No Aus/Bang), 1994-2003')\n",
    "plt.legend(loc='upper left')\n",
    "plt.margins(0.02)\n",
    "plt.show()"
   ]
  },
  {
   "cell_type": "markdown",
   "metadata": {},
   "source": [
    "South Africa, Pakistan and Sri Lanka hold records better than the mean win rate (0.324). England have a win rate of 0.305, worse than the mean, but superior to the win rates of India, New Zealand, West Indies and Zimbabwe.\n",
    "\n",
    "Englands loss rate of 0.293 is better than every other teams bar South Africa and Pakistan."
   ]
  },
  {
   "cell_type": "markdown",
   "metadata": {},
   "source": [
    "### **Conclusion**\n",
    "\n",
    "It looks as though England's record suffered to some extent during the period by having to play a great team like Australia more than everyone else, while at the same time not having any matches against a genuine minnow, Bangladesh.  With all matches against these two teams filtered out:\n",
    "   - Englands win rate improved slightly from 0.280 to 0.304\n",
    "   - their loss rate improved greatly from 0.383 to 0.293\n",
    "\n",
    "Indeed if you were to rank the teams in this second analysis you could certainly make the case that England would be fourth out of eight, not exactly minnow like results.  Perhaps Glenn McGraths 157 wickets against England shouldnt be dismissed as irrelevant just yet!"
   ]
  }
 ],
 "metadata": {
  "kernelspec": {
   "display_name": "Python 3",
   "language": "python",
   "name": "python3"
  },
  "language_info": {
   "codemirror_mode": {
    "name": "ipython",
    "version": 3
   },
   "file_extension": ".py",
   "mimetype": "text/x-python",
   "name": "python",
   "nbconvert_exporter": "python",
   "pygments_lexer": "ipython3",
   "version": "3.6.3"
  }
 },
 "nbformat": 4,
 "nbformat_minor": 2
}
