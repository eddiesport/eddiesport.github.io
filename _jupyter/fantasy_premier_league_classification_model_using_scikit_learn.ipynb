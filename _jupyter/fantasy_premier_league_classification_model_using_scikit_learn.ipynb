{
 "cells": [
  {
   "cell_type": "markdown",
   "metadata": {},
   "source": [
    "## **A Supervised Learning Classification Model Example Using Scikit Learn**\n",
    "\n",
    "This is my attempt at producing a classification model in Python using the Scikit-Learn package.  I'm going to use Fantasy Premier League player data from the 2017/18 season to create a model that will attempt to predict the position of a player given their player stats. There are four possible prediction classes: Goalkeeper, Defender, Midfielder, Forward."
   ]
  },
  {
   "cell_type": "markdown",
   "metadata": {},
   "source": [
    "### **Notes on the Data**\n",
    "\n",
    "The CSV file containing the player data has been preprocessed into a format compatible with Scikit-Learn. All the stats (feature) columns were numerical anyway so there were no categorical variables that needed dealing with.  There is no missing data in any of the columns of the dataset.\n",
    "\n",
    "Players could be on the field accruing stats for up to 3420 minutes (38 full matches) during the season, indeed 10 players did just that. I removed all players from the dataset who played less than 180 minutes (the equivalent of 2 full matches). That still leaves lots of players who will have played far less than others and their comparative lack of stats will no doubt impact on model performance.  As this is an example rather than a model intending to have any great practical use I'll proceed while understanding that limitation is there.\n",
    "\n",
    "The target column 'Position' will need to be processed as it contains strings (GK, DF, MF, FW). As I understand it in scikit-learn the prediction classes need to be numerical values, I'll show how to encode that column using scikit-learn LabelEncoder."
   ]
  },
  {
   "cell_type": "markdown",
   "metadata": {},
   "source": [
    "### **Importing our Dataset**"
   ]
  },
  {
   "cell_type": "code",
   "execution_count": 1,
   "metadata": {},
   "outputs": [
    {
     "name": "stdout",
     "output_type": "stream",
     "text": [
      "                        Position  Goals Scored  Assists  Clean Sheets  \\\n",
      "Full Name                                                               \n",
      "Eldin Jakupovic               GK             0        0             0   \n",
      "Jeremy Pied                   DF             0        1             0   \n",
      "Kyle Walker Peters            DF             0        2             1   \n",
      "Beni Baningime                MF             0        0             0   \n",
      "Konstantinos Mavropanos       DF             0        0             1   \n",
      "\n",
      "                         Goals Conceded  Own Goals  Penalties Saved  \\\n",
      "Full Name                                                             \n",
      "Eldin Jakupovic                       6          0                0   \n",
      "Jeremy Pied                           3          0                0   \n",
      "Kyle Walker Peters                    4          0                0   \n",
      "Beni Baningime                        2          0                0   \n",
      "Konstantinos Mavropanos               5          0                0   \n",
      "\n",
      "                         Penalties Missed  Yellow Cards  Red Cards  Saves  \\\n",
      "Full Name                                                                   \n",
      "Eldin Jakupovic                         0             0          0      8   \n",
      "Jeremy Pied                             0             0          0      0   \n",
      "Kyle Walker Peters                      0             0          0      0   \n",
      "Beni Baningime                          0             1          0      0   \n",
      "Konstantinos Mavropanos                 0             0          1      0   \n",
      "\n",
      "                         Bonus Points  Bonus Point System Score  Influence  \\\n",
      "Full Name                                                                    \n",
      "Eldin Jakupovic                     0                        36       67.8   \n",
      "Jeremy Pied                         1                        47       65.8   \n",
      "Kyle Walker Peters                  0                        73       70.4   \n",
      "Beni Baningime                      0                        20        9.4   \n",
      "Konstantinos Mavropanos             0                        41       52.2   \n",
      "\n",
      "                         Creativity  Threat  ICT Index  \n",
      "Full Name                                               \n",
      "Eldin Jakupovic                 0.0       0        6.8  \n",
      "Jeremy Pied                    29.9       4       10.0  \n",
      "Kyle Walker Peters             48.3      10       12.9  \n",
      "Beni Baningime                  3.8       0        1.3  \n",
      "Konstantinos Mavropanos         1.3       2        5.5  \n",
      "<class 'pandas.core.frame.DataFrame'>\n",
      "Index: 441 entries, Eldin Jakupovic to Asmir Begovic\n",
      "Data columns (total 17 columns):\n",
      "Position                    441 non-null object\n",
      "Goals Scored                441 non-null int64\n",
      "Assists                     441 non-null int64\n",
      "Clean Sheets                441 non-null int64\n",
      "Goals Conceded              441 non-null int64\n",
      "Own Goals                   441 non-null int64\n",
      "Penalties Saved             441 non-null int64\n",
      "Penalties Missed            441 non-null int64\n",
      "Yellow Cards                441 non-null int64\n",
      "Red Cards                   441 non-null int64\n",
      "Saves                       441 non-null int64\n",
      "Bonus Points                441 non-null int64\n",
      "Bonus Point System Score    441 non-null int64\n",
      "Influence                   441 non-null float64\n",
      "Creativity                  441 non-null float64\n",
      "Threat                      441 non-null int64\n",
      "ICT Index                   441 non-null float64\n",
      "dtypes: float64(3), int64(13), object(1)\n",
      "memory usage: 62.0+ KB\n",
      "None\n"
     ]
    }
   ],
   "source": [
    "#Import relevant packages\n",
    "import numpy as np\n",
    "import pandas as pd\n",
    "import matplotlib.pyplot as plt\n",
    "import seaborn as sns\n",
    "import itertools\n",
    "\n",
    "#Import our CSV data file as a dataframe\n",
    "fpl_data = pd.read_csv('https://eddiesport.github.io/projects/FPL_final.csv', \\\n",
    "                       header=0, index_col=0, encoding='cp1252')\n",
    "\n",
    "print(fpl_data.head())\n",
    "print(fpl_data.info())"
   ]
  },
  {
   "cell_type": "markdown",
   "metadata": {},
   "source": [
    "We can see that the created DataFrame contains the players names as the index and 17 data columns.  None of the columns appears to have missing data (as expected given its been preprocessed). The 16 numerical columns are going to be our features while the 'Position' column will be our target. Lets encode this column now so scikit-learn will accept it. "
   ]
  },
  {
   "cell_type": "markdown",
   "metadata": {},
   "source": [
    "### **Encoding our Feature Column**"
   ]
  },
  {
   "cell_type": "code",
   "execution_count": 2,
   "metadata": {},
   "outputs": [
    {
     "name": "stdout",
     "output_type": "stream",
     "text": [
      "{'DF': 0, 'FW': 1, 'GK': 2, 'MF': 3}\n"
     ]
    }
   ],
   "source": [
    "#Using Label Encoder\n",
    "from sklearn.preprocessing import LabelEncoder\n",
    "\n",
    "#Instantiate an example of LabelEncoder\n",
    "le = LabelEncoder()\n",
    "#Apply to our target column\n",
    "fpl_data.Position = le.fit_transform(fpl_data.Position)\n",
    "\n",
    "#Create a dictionary to show our newly encoded key/value pairs\n",
    "#The class_names variable will also be used in our visualizations later\n",
    "class_names = le.classes_\n",
    "values = le.transform(le.classes_)\n",
    "dictionary = dict(zip(class_names, values))\n",
    "print(dictionary)"
   ]
  },
  {
   "cell_type": "markdown",
   "metadata": {},
   "source": [
    "As we can see, our target classes are now numeric, with 0 representing 'DF', 1 for 'FW', etc. "
   ]
  },
  {
   "cell_type": "markdown",
   "metadata": {},
   "source": [
    "### **Create our Feature and Target Arrays**"
   ]
  },
  {
   "cell_type": "code",
   "execution_count": 3,
   "metadata": {},
   "outputs": [
    {
     "name": "stdout",
     "output_type": "stream",
     "text": [
      "(441, 16)\n",
      "(441,)\n",
      "3    182\n",
      "0    159\n",
      "1     66\n",
      "2     34\n",
      "Name: Position, dtype: int64\n"
     ]
    }
   ],
   "source": [
    "#Create feature (X) and target (y) arrays\n",
    "feature_cols = ['Goals Scored', 'Assists', 'Clean Sheets', 'Goals Conceded', 'Own Goals', 'Penalties Saved', \\\n",
    "                'Penalties Missed', 'Yellow Cards', 'Red Cards', 'Saves', 'Bonus Points', 'Bonus Point System Score', \\\n",
    "                'Influence', 'Creativity', 'Threat', 'ICT Index']\n",
    "\n",
    "X = fpl_data.loc[:, feature_cols]\n",
    "print(X.shape)\n",
    "\n",
    "y = fpl_data.Position\n",
    "print(y.shape)\n",
    "\n",
    "print(y.value_counts())"
   ]
  },
  {
   "cell_type": "markdown",
   "metadata": {},
   "source": [
    "Something to note is the class imbalance of our target variable, for example we have far more midfielders (182) than goalkeepers (34). This is something to bear in mind when looking at the results of testing our model later."
   ]
  },
  {
   "cell_type": "markdown",
   "metadata": {},
   "source": [
    "### **A Visualization of our Feature Columns**\n",
    "\n",
    "I should have done some graphical EDA earlier to see if relationships between our feature columns existed. As I've just separated the feature columns out I'll produce a correlation matrix of all our 16 variables. Given there are quite a lot of variables I'll then create a heatmap of the result."
   ]
  },
  {
   "cell_type": "code",
   "execution_count": 4,
   "metadata": {},
   "outputs": [
    {
     "data": {
      "image/png": "[encoded data removed]",
      "text/plain": [
       "<matplotlib.figure.Figure at 0xbbc7c18>"
      ]
     },
     "metadata": {},
     "output_type": "display_data"
    }
   ],
   "source": [
    "#Create a show a correlation matrix of the feature columns\n",
    "corr_mat = X.corr()\n",
    "\n",
    "#Visualize this matrix using Seaborns heatmap function\n",
    "sns.heatmap(corr_mat)\n",
    "plt.title('Feature Columns Correlation Heatmap')\n",
    "plt.show()\n",
    "plt.clf()"
   ]
  },
  {
   "cell_type": "markdown",
   "metadata": {},
   "source": [
    "Unsurprisingly there are a range of relationships here, 'Goals Scored' and 'Threat' are highly correlated, while 'Penalities Saved' and 'Creativity' are not. There's certainly enough going on that one should hope a useful classification model could be trained using the data, so lets continue!"
   ]
  },
  {
   "cell_type": "markdown",
   "metadata": {},
   "source": [
    "### **Scaling our Data**\n",
    "\n",
    "If the various columns of data cover differing ranges (from min to max values in each column) then we should look into rescaling our data. Lets take a look."
   ]
  },
  {
   "cell_type": "code",
   "execution_count": 5,
   "metadata": {},
   "outputs": [
    {
     "name": "stdout",
     "output_type": "stream",
     "text": [
      "         Position  Goals Scored     Assists  Clean Sheets  Goals Conceded  \\\n",
      "count  441.000000    441.000000  441.000000    441.000000      441.000000   \n",
      "mean     1.541950      2.235828    2.047619      5.773243       25.090703   \n",
      "std      1.341195      3.784980    2.813926      4.104688       14.925601   \n",
      "min      0.000000      0.000000    0.000000      0.000000        0.000000   \n",
      "25%      0.000000      0.000000    0.000000      3.000000       13.000000   \n",
      "50%      1.000000      1.000000    1.000000      5.000000       24.000000   \n",
      "75%      3.000000      3.000000    3.000000      9.000000       34.000000   \n",
      "max      3.000000     32.000000   18.000000     19.000000       63.000000   \n",
      "\n",
      "        Own Goals  Penalties Saved  Penalties Missed  Yellow Cards  \\\n",
      "count  441.000000       441.000000        441.000000    441.000000   \n",
      "mean     0.068027         0.047619          0.054422      2.612245   \n",
      "std      0.301357         0.277980          0.280802      2.329989   \n",
      "min      0.000000         0.000000          0.000000      0.000000   \n",
      "25%      0.000000         0.000000          0.000000      1.000000   \n",
      "50%      0.000000         0.000000          0.000000      2.000000   \n",
      "75%      0.000000         0.000000          0.000000      4.000000   \n",
      "max      4.000000         3.000000          3.000000     11.000000   \n",
      "\n",
      "        Red Cards       Saves  Bonus Points  Bonus Point System Score  \\\n",
      "count  441.000000  441.000000    441.000000                441.000000   \n",
      "mean     0.088435    4.863946      5.467120                323.800454   \n",
      "std      0.299814   20.584738      5.960814                201.358017   \n",
      "min      0.000000    0.000000      0.000000                 11.000000   \n",
      "25%      0.000000    0.000000      0.000000                167.000000   \n",
      "50%      0.000000    0.000000      4.000000                305.000000   \n",
      "75%      0.000000    0.000000      9.000000                470.000000   \n",
      "max      2.000000  145.000000     31.000000                913.000000   \n",
      "\n",
      "         Influence   Creativity       Threat   ICT Index  \n",
      "count   441.000000   441.000000   441.000000  441.000000  \n",
      "mean    390.402268   252.426531   268.795918   91.133560  \n",
      "std     261.424449   268.366338   321.296859   71.471795  \n",
      "min       8.800000     0.000000     0.000000    1.300000  \n",
      "25%     181.800000    59.400000    55.000000   36.800000  \n",
      "50%     353.800000   164.700000   150.000000   76.900000  \n",
      "75%     550.400000   340.700000   361.000000  120.600000  \n",
      "max    1496.200000  1744.200000  2355.000000  454.400000  \n"
     ]
    }
   ],
   "source": [
    "#Quick look at the DataFrames column data statistical details\n",
    "print(fpl_data.describe())"
   ]
  },
  {
   "cell_type": "markdown",
   "metadata": {},
   "source": [
    "We can see a large variation in ranges, eg, 'Penalties Saved' ranges from 0-3, while Threat ranges from 0-2355.  This suggests we should include scale our data within the model.  I'll do this using Standardization. "
   ]
  },
  {
   "cell_type": "markdown",
   "metadata": {},
   "source": [
    "### **What Type of Classification Model To Use?**\n",
    "\n",
    "Scikit-learn gives lots of choices, I'm going to use a K-Nearest Neighbors (k-NN) classifier here.  To be more thorough one could try many models and see which performs better given your metrics of choice."
   ]
  },
  {
   "cell_type": "markdown",
   "metadata": {},
   "source": [
    "### **Create a Pipeline Object**\n",
    "\n",
    "I'm going to standardize my data, then apply the k-NN model.  This is two seperate steps, so I'll put them in a pipeline!"
   ]
  },
  {
   "cell_type": "code",
   "execution_count": 6,
   "metadata": {
    "collapsed": true
   },
   "outputs": [],
   "source": [
    "#Import required scikit-learn modules\n",
    "from sklearn.model_selection import train_test_split, GridSearchCV\n",
    "from sklearn.neighbors import KNeighborsClassifier\n",
    "from sklearn.preprocessing import StandardScaler\n",
    "from sklearn.pipeline import Pipeline\n",
    "\n",
    "#Set up the pipeline steps\n",
    "steps = [('scaler', StandardScaler()),\n",
    "         ('knn', KNeighborsClassifier())]\n",
    "\n",
    "#Create the pipeline object\n",
    "pipeline = Pipeline(steps)"
   ]
  },
  {
   "cell_type": "markdown",
   "metadata": {},
   "source": [
    "### **Hyperparameter Tuning**\n",
    "\n",
    "We are going to tune the n_neighbors parameter of our k-NN classifier. To do this I'll create a range of 'n_neighbors' to try.  I'll use 1-20 here.  "
   ]
  },
  {
   "cell_type": "code",
   "execution_count": 7,
   "metadata": {
    "collapsed": true
   },
   "outputs": [],
   "source": [
    "#Define parameter grid for K neighbors search\n",
    "k_range = np.arange(1, 21)\n",
    "parameters = {'knn__n_neighbors': k_range}"
   ]
  },
  {
   "cell_type": "markdown",
   "metadata": {},
   "source": [
    "### **Train Test Split**\n",
    "\n",
    "Lets create our training and test sets.  Add in a random state for repeatability of results."
   ]
  },
  {
   "cell_type": "code",
   "execution_count": 8,
   "metadata": {
    "collapsed": true
   },
   "outputs": [],
   "source": [
    "#Create training and test (hold out) sets\n",
    "X_train, X_test, y_train, y_test = train_test_split(X, y, test_size = 0.25, random_state=42, stratify=y)"
   ]
  },
  {
   "cell_type": "markdown",
   "metadata": {},
   "source": [
    "### **Instantiate a GridSearch Object**\n",
    "\n",
    "Lets add our pipeline and parameters to a gridsearch object. Cross validation is set to 3 subsets by default, I'll change it to 5 here. The result of this will be, for bettor or worse, our model."
   ]
  },
  {
   "cell_type": "code",
   "execution_count": 9,
   "metadata": {
    "collapsed": true
   },
   "outputs": [],
   "source": [
    "#Instantiate GridSearch object.\n",
    "fpl_model = GridSearchCV(pipeline, parameters, cv=5)"
   ]
  },
  {
   "cell_type": "markdown",
   "metadata": {},
   "source": [
    "### **Train and Test our Model, show Model Metrics**"
   ]
  },
  {
   "cell_type": "code",
   "execution_count": 10,
   "metadata": {},
   "outputs": [
    {
     "name": "stdout",
     "output_type": "stream",
     "text": [
      "Accuracy: 0.7297297297297297\n",
      "             precision    recall  f1-score   support\n",
      "\n",
      "          0       0.69      0.78      0.73        40\n",
      "          1       0.79      0.65      0.71        17\n",
      "          2       1.00      0.88      0.93         8\n",
      "          3       0.71      0.70      0.70        46\n",
      "\n",
      "avg / total       0.74      0.73      0.73       111\n",
      "\n",
      "Tuned Model Parameters: {'knn__n_neighbors': 3}\n"
     ]
    }
   ],
   "source": [
    "#Fit model to training set\n",
    "fpl_model.fit(X_train, y_train)\n",
    "\n",
    "#Predict labels of the test data\n",
    "y_pred = fpl_model.predict(X_test)\n",
    "\n",
    "#Compute and print metrics\n",
    "from sklearn.metrics import classification_report, confusion_matrix\n",
    "\n",
    "#Print accuracy, classification report and the best model parameters used\n",
    "print('Accuracy: {}'.format(fpl_model.score(X_test, y_test)))\n",
    "print(classification_report(y_test, y_pred))\n",
    "print(\"Tuned Model Parameters: {}\".format(fpl_model.best_params_))"
   ]
  },
  {
   "cell_type": "markdown",
   "metadata": {},
   "source": [
    "An accuracy score of 0.7298. Well its a lot better than guessing that everyone was a Midfielder (the most numerous class), that would have yielded an accuracy score of 0.41, so our model is definitely working. From our hyperparameter tuning we can see the optimum number of 'n_neighbors' in this case was 3.\n",
    "\n",
    "Lets look at another model metric, the confusion matrix.  The following code that defines a function for visualizing a confusion matrix is not mine, its taken from the [scikit-learn docs](https://scikit-learn.org/stable/auto_examples/model_selection/plot_confusion_matrix.html#sphx-glr-auto-examples-model-selection-plot-confusion-matrix-py). The first example is not normalized, the second one is.  Normalizing is a good idea here because of the class imbalance we mentioned earlier."
   ]
  },
  {
   "cell_type": "code",
   "execution_count": 11,
   "metadata": {
    "collapsed": true
   },
   "outputs": [],
   "source": [
    "#Function to visualize the confusion matrix\n",
    "def plot_confusion_matrix(cm, classes,\n",
    "                          normalize=False,\n",
    "                          title='Confusion matrix',\n",
    "                          cmap=plt.cm.Blues):\n",
    "    \"\"\"\n",
    "    This function prints and plots the confusion matrix.\n",
    "    Normalization can be applied by setting `normalize=True`.\n",
    "    \"\"\"\n",
    "    if normalize:\n",
    "        cm = cm.astype('float') / cm.sum(axis=1)[:, np.newaxis]\n",
    "        print(\"Normalized confusion matrix\")\n",
    "    else:\n",
    "        print('Confusion matrix, without normalization')\n",
    "\n",
    "    print(cm)\n",
    "\n",
    "    plt.imshow(cm, interpolation='nearest', cmap=cmap)\n",
    "    plt.title(title)\n",
    "    plt.colorbar()\n",
    "    tick_marks = np.arange(len(classes))\n",
    "    plt.xticks(tick_marks, classes, rotation=45)\n",
    "    plt.yticks(tick_marks, classes)\n",
    "\n",
    "    fmt = '.2f' if normalize else 'd'\n",
    "    thresh = cm.max() / 2.\n",
    "    for i, j in itertools.product(range(cm.shape[0]), range(cm.shape[1])):\n",
    "        plt.text(j, i, format(cm[i, j], fmt),\n",
    "                 horizontalalignment=\"center\",\n",
    "                 color=\"white\" if cm[i, j] > thresh else \"black\")\n",
    "\n",
    "    plt.ylabel('True label')\n",
    "    plt.xlabel('Predicted label')\n",
    "    plt.tight_layout()"
   ]
  },
  {
   "cell_type": "code",
   "execution_count": 12,
   "metadata": {},
   "outputs": [
    {
     "name": "stdout",
     "output_type": "stream",
     "text": [
      "Confusion matrix, without normalization\n",
      "[[31  0  0  9]\n",
      " [ 2 11  0  4]\n",
      " [ 1  0  7  0]\n",
      " [11  3  0 32]]\n",
      "Normalized confusion matrix\n",
      "[[ 0.775       0.          0.          0.225     ]\n",
      " [ 0.11764706  0.64705882  0.          0.23529412]\n",
      " [ 0.125       0.          0.875       0.        ]\n",
      " [ 0.23913043  0.06521739  0.          0.69565217]]\n"
     ]
    },
    {
     "data": {
      "text/plain": [
       "<matplotlib.figure.Figure at 0xc08beb8>"
      ]
     },
     "metadata": {},
     "output_type": "display_data"
    },
    {
     "data": {
      "image/png": "[encoded data removed]",
      "text/plain": [
       "<matplotlib.figure.Figure at 0xc99c240>"
      ]
     },
     "metadata": {},
     "output_type": "display_data"
    },
    {
     "data": {
      "image/png": "[encoded data removed]",
      "text/plain": [
       "<matplotlib.figure.Figure at 0xc99c8d0>"
      ]
     },
     "metadata": {},
     "output_type": "display_data"
    }
   ],
   "source": [
    "# Compute confusion matrix\n",
    "cnf_matrix = confusion_matrix(y_test, y_pred)\n",
    "\n",
    "#Plot non-normalized confusion matrix\n",
    "plt.figure()\n",
    "plot_confusion_matrix(cnf_matrix, classes=class_names,\n",
    "                      title='Confusion matrix, without normalization')\n",
    "\n",
    "#Plot normalized confusion matrix\n",
    "plt.figure()\n",
    "plot_confusion_matrix(cnf_matrix, classes=class_names, normalize=True,\n",
    "                      title='Normalized confusion matrix')\n",
    "\n",
    "plt.show()"
   ]
  },
  {
   "cell_type": "markdown",
   "metadata": {},
   "source": [
    "We can see from the normalized confusion matrix that the model was good at predicting goalkeepers on the test set, less good at predicting forwards.\n",
    "\n",
    "If you like the created model and want to run it again in future it would be wise to save it as a file (I'm not going to do that here though)."
   ]
  },
  {
   "cell_type": "markdown",
   "metadata": {},
   "source": [
    "### **Using our Model for Prediction**\n",
    "\n",
    "I don't have an unused data set to try the model on but I will apply it here back to the original dataset and see what we get."
   ]
  },
  {
   "cell_type": "code",
   "execution_count": 13,
   "metadata": {},
   "outputs": [
    {
     "name": "stdout",
     "output_type": "stream",
     "text": [
      "Accuracy: 0.8276643990929705\n",
      "             precision    recall  f1-score   support\n",
      "\n",
      "          0       0.79      0.87      0.83       159\n",
      "          1       0.86      0.74      0.80        66\n",
      "          2       1.00      0.94      0.97        34\n",
      "          3       0.83      0.80      0.81       182\n",
      "\n",
      "avg / total       0.83      0.83      0.83       441\n",
      "\n",
      "Confusion matrix, without normalization\n",
      "[[139   0   0  20]\n",
      " [  7  49   0  10]\n",
      " [  2   0  32   0]\n",
      " [ 29   8   0 145]]\n",
      "Normalized confusion matrix\n",
      "[[ 0.87421384  0.          0.          0.12578616]\n",
      " [ 0.10606061  0.74242424  0.          0.15151515]\n",
      " [ 0.05882353  0.          0.94117647  0.        ]\n",
      " [ 0.15934066  0.04395604  0.          0.7967033 ]]\n"
     ]
    },
    {
     "data": {
      "image/png": "[encoded data removed]",
      "text/plain": [
       "<matplotlib.figure.Figure at 0xc07a160>"
      ]
     },
     "metadata": {},
     "output_type": "display_data"
    },
    {
     "data": {
      "image/png": "[encoded data removed]",
      "text/plain": [
       "<matplotlib.figure.Figure at 0xc3f6b38>"
      ]
     },
     "metadata": {},
     "output_type": "display_data"
    }
   ],
   "source": [
    "#Use model to predict on full dataset\n",
    "model_result = fpl_model.predict(X)\n",
    "\n",
    "#Compute and print metrics\n",
    "print('Accuracy: {}'.format(fpl_model.score(X, y)))\n",
    "print(classification_report(y, model_result))\n",
    "\n",
    "#Compute confusion matrix on whole data set\n",
    "cnf_matrix = confusion_matrix(y, model_result)\n",
    "\n",
    "#Plot non-normalized confusion matrix\n",
    "plt.figure()\n",
    "plot_confusion_matrix(cnf_matrix, classes=class_names,\n",
    "                      title='Confusion matrix, without normalization')\n",
    "\n",
    "#Plot normalized confusion matrix\n",
    "plt.figure()\n",
    "plot_confusion_matrix(cnf_matrix, classes=class_names, normalize=True,\n",
    "                      title='Normalized confusion matrix')\n",
    "\n",
    "plt.show()"
   ]
  },
  {
   "cell_type": "markdown",
   "metadata": {},
   "source": [
    "### **Thoughts** \n",
    "\n",
    "What, if anything, can we ascertain from these results? We can see from the confusion matrix on the full dataset that 8 midfielders were misclassified by our model as forwards. For fantasy players these misclassifications could provide a potentially interesting insight, as midfielders who act like forwards are likely to be valuable in fantasy terms. Lets see who these 8 players actually are.\n",
    "\n",
    "To begin I'll add the predictions back into the original dataset by adding a 'Results' column."
   ]
  },
  {
   "cell_type": "code",
   "execution_count": 14,
   "metadata": {},
   "outputs": [
    {
     "name": "stdout",
     "output_type": "stream",
     "text": [
      "<class 'pandas.core.frame.DataFrame'>\n",
      "Index: 441 entries, Eldin Jakupovic to Asmir Begovic\n",
      "Data columns (total 18 columns):\n",
      "Position                    441 non-null int64\n",
      "Goals Scored                441 non-null int64\n",
      "Assists                     441 non-null int64\n",
      "Clean Sheets                441 non-null int64\n",
      "Goals Conceded              441 non-null int64\n",
      "Own Goals                   441 non-null int64\n",
      "Penalties Saved             441 non-null int64\n",
      "Penalties Missed            441 non-null int64\n",
      "Yellow Cards                441 non-null int64\n",
      "Red Cards                   441 non-null int64\n",
      "Saves                       441 non-null int64\n",
      "Bonus Points                441 non-null int64\n",
      "Bonus Point System Score    441 non-null int64\n",
      "Influence                   441 non-null float64\n",
      "Creativity                  441 non-null float64\n",
      "Threat                      441 non-null int64\n",
      "ICT Index                   441 non-null float64\n",
      "Results                     441 non-null int64\n",
      "dtypes: float64(3), int64(15)\n",
      "memory usage: 85.5+ KB\n",
      "None\n"
     ]
    }
   ],
   "source": [
    "#Add model result to full dataset\n",
    "fpl_data['Results'] = model_result\n",
    "print(fpl_data.info())"
   ]
  },
  {
   "cell_type": "markdown",
   "metadata": {},
   "source": [
    "Our new position column has been added and looks good.  I'll now do some DataFrame slicing and (just for clarity here) create a new DataFrame (fpl_wrong) that contains all the players our model misclassified.  From that new DataFrame I'll select the midfielders (class 3) who the model predicted as forwards (class 1)."
   ]
  },
  {
   "cell_type": "code",
   "execution_count": 15,
   "metadata": {},
   "outputs": [
    {
     "name": "stdout",
     "output_type": "stream",
     "text": [
      "                          Position  Goals Scored  Assists  Clean Sheets  \\\n",
      "Full Name                                                                 \n",
      "Gnegneri Yaya Toure              3             0        2             0   \n",
      "Adam Lallana                     3             0        0             1   \n",
      "Junior Stanislas                 3             5        3             2   \n",
      "Eric Maxim Choupo Moting         3             5        5             5   \n",
      "James McArthur                   3             5        2             7   \n",
      "Wilfried Zaha                    3             9        7            10   \n",
      "Richarlison de Andrade           3             5        8             8   \n",
      "Mohamed Salah                    3            32       12            15   \n",
      "\n",
      "                          Goals Conceded  Own Goals  Penalties Saved  \\\n",
      "Full Name                                                              \n",
      "Gnegneri Yaya Toure                    2          0                0   \n",
      "Adam Lallana                           1          0                0   \n",
      "Junior Stanislas                      22          0                0   \n",
      "Eric Maxim Choupo Moting              45          0                0   \n",
      "James McArthur                        35          0                0   \n",
      "Wilfried Zaha                         31          0                0   \n",
      "Richarlison de Andrade                54          0                0   \n",
      "Mohamed Salah                         29          0                0   \n",
      "\n",
      "                          Penalties Missed  Yellow Cards  Red Cards  Saves  \\\n",
      "Full Name                                                                    \n",
      "Gnegneri Yaya Toure                      0             1          0      0   \n",
      "Adam Lallana                             0             1          0      0   \n",
      "Junior Stanislas                         0             1          0      0   \n",
      "Eric Maxim Choupo Moting                 0             3          0      0   \n",
      "James McArthur                           0             5          0      0   \n",
      "Wilfried Zaha                            0             5          0      0   \n",
      "Richarlison de Andrade                   0             4          0      0   \n",
      "Mohamed Salah                            1             1          0      0   \n",
      "\n",
      "                          Bonus Points  Bonus Point System Score  Influence  \\\n",
      "Full Name                                                                     \n",
      "Gnegneri Yaya Toure                  0                        99      105.0   \n",
      "Adam Lallana                         0                        37       32.6   \n",
      "Junior Stanislas                     7                       285      394.8   \n",
      "Eric Maxim Choupo Moting             9                       341      505.6   \n",
      "James McArthur                       9                       416      490.6   \n",
      "Wilfried Zaha                        8                       404      668.0   \n",
      "Richarlison de Andrade               4                       304      497.0   \n",
      "Mohamed Salah                       26                       881     1496.2   \n",
      "\n",
      "                          Creativity  Threat  ICT Index  Results  \n",
      "Full Name                                                         \n",
      "Gnegneri Yaya Toure            122.6      72       29.8        1  \n",
      "Adam Lallana                   113.4     128       27.3        1  \n",
      "Junior Stanislas               377.2     483      125.1        1  \n",
      "Eric Maxim Choupo Moting       327.5     851      168.1        1  \n",
      "James McArthur                 333.0     566      138.9        1  \n",
      "Wilfried Zaha                  716.9    1125      251.0        1  \n",
      "Richarlison de Andrade         384.7    1217      209.3        1  \n",
      "Mohamed Salah                  942.5    2109      454.4        1  \n"
     ]
    }
   ],
   "source": [
    "#Create a new DataFrame of players who have been misclassified by the model\n",
    "fpl_wrong = fpl_data.loc[fpl_data['Position'] != fpl_data['Results']]\n",
    "\n",
    "#Select midfielders classified by our model as forwards\n",
    "print(fpl_wrong[(fpl_wrong['Position'] == 3) & (fpl_wrong['Results'] == 1)])"
   ]
  },
  {
   "cell_type": "markdown",
   "metadata": {},
   "source": [
    "We have our 8 players. They include Mo Salah, the Premier League top scorer in the 2017/18 season. This is promising, if any player should be misclassified its Salah, a midfielder who scores 30+ goals a season. Another player is Zaha, in this current (18/19) seasons fantasy game he is no longer listed as a midfielder but as a forward, so this misclassification is also perfectly understandable.  There is definitely scope here for checking this list between seasons to try and find potential value players for the following years game.\n",
    "\n",
    "We'll thats our k-NN Classification model! Its not perfect, we knew given the data limitations described in the intro it couldn't be, but it still worked pretty well and could even be used to provide some insight into the fantasy Premier League game. "
   ]
  }
 ],
 "metadata": {
  "kernelspec": {
   "display_name": "Python 3",
   "language": "python",
   "name": "python3"
  },
  "language_info": {
   "codemirror_mode": {
    "name": "ipython",
    "version": 3
   },
   "file_extension": ".py",
   "mimetype": "text/x-python",
   "name": "python",
   "nbconvert_exporter": "python",
   "pygments_lexer": "ipython3",
   "version": "3.6.3"
  }
 },
 "nbformat": 4,
 "nbformat_minor": 2
}
