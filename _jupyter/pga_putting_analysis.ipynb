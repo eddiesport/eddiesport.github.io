{
 "cells": [
  {
   "cell_type": "markdown",
   "metadata": {},
   "source": [
    "##**A Brief Look at Driving Distance and Putting on the PGA Tour in 2002 and 2017**\n",
    "\n",
    "###**Driving**  \n",
    "The PGA Tour has seen a huge increase in the distance players can drive the ball over the last few decades.  This has been down to technological advances in equipment allied to players focusing more on strength, fitness and flexibility.  I'll highlight this advancement using the PGA Tour **Driving Distance** statistic, described on the PGA Tour website as:\n",
    "> The average number of yards per measured drive. These drives are measured on two holes per round. Care is taken to select two holes which face in opposite directions to counteract the effect of wind. Drives are measured to the point at which they come to rest regardless of whether they are in the fairway or not.\n",
    "\n",
    "###**Putting**\n",
    "This led me to wonder if there had been a corresponding improvement in players putting ability over the same time frame.  The statistic I've chosen to use in this comparison is the PGA Tour **Putting From 10 Feet** statistic, described on the PGA Tour website as:  \n",
    "> For all holes where putting distance was determined with a laser, the percent of putts made when the ball is greater than 9 feet and less than or equal to 10 feet from the hole. In order to be ranked, a minimum of ten attempts must be made.\n",
    "\n",
    "I've chosen the starting point of the analysis as 2002 as that is the first season the relevant putting stats were collected.\n",
    "\n",
    "\n",
    "###**Methodology**\n",
    "I'll begin by writing a function to turn the table contents of a PGATour.com stats page into a DataFrame using the URL of the page.  I'll use the function to collect the relevant data for each year, then I'll merge and clean up the DataFrames appropriately."
   ]
  },
  {
   "cell_type": "code",
   "execution_count": 1,
   "metadata": {
    "collapsed": true
   },
   "outputs": [],
   "source": [
    "#Import required modules\n",
    "import requests\n",
    "from bs4 import BeautifulSoup as soup\n",
    "import pandas as pd"
   ]
  },
  {
   "cell_type": "code",
   "execution_count": 2,
   "metadata": {
    "collapsed": true
   },
   "outputs": [],
   "source": [
    "#Create the function to acquire the PGA Tour data\n",
    "def pga_url_to_df(url):\n",
    "    \"\"\"Turn a pga stats page url into a DataFrame\"\"\"\n",
    "    #Package the request, send request, catch response: r\n",
    "    r = requests.get(url)\n",
    "    #Extract the response as HTML: html_doc\n",
    "    html_doc = r.text\n",
    "    #Create our Beautiful Soup object from the HTML: main_soup\n",
    "    main_soup = soup(html_doc, 'lxml')\n",
    "    #Find our table in the soup    \n",
    "    stat_table = main_soup.find('table', {'id':'statsTable'})\n",
    "    #Find elements in the 'body' of the table\n",
    "    stat_table_body = stat_table.find('tbody')\n",
    "    \n",
    "    #Initialize an empty array\n",
    "    stat_data = []\n",
    "    \n",
    "    #Filter for the rows in the table body\n",
    "    rows = stat_table_body('tr')\n",
    "    for player in rows:\n",
    "        #select all cells in the row\n",
    "        cols = player.find_all('td')\n",
    "        #Strip out empty values\n",
    "        cols = [ele.text.strip() for ele in cols]\n",
    "        #Append data to our array\n",
    "        stat_data.append([ele for ele in cols if ele])\n",
    "        \n",
    "    #Sort the table header, using same process as above for the table body\n",
    "    stat_table_header = stat_table.find('thead')\n",
    "    stat_header = []\n",
    "    hrows = stat_table_header('tr')\n",
    "    for header in hrows:\n",
    "        cols = header.find_all('th')\n",
    "        cols = [ele.text.strip() for ele in cols]\n",
    "        #Append data to our array\n",
    "        stat_header.append([ele for ele in cols if ele])\n",
    "\n",
    "    #Create our header array\n",
    "    stat_col_labels = stat_header[0]\n",
    "    \n",
    "    #Return a DataFrame of the data\n",
    "    return pd.DataFrame(stat_data, columns=stat_col_labels)"
   ]
  },
  {
   "cell_type": "code",
   "execution_count": 3,
   "metadata": {},
   "outputs": [
    {
     "name": "stdout",
     "output_type": "stream",
     "text": [
      "  RANK THIS WEEK RANK LAST WEEK      PLAYER NAME ROUNDS % MADE ATTEMPTS  \\\n",
      "0             T1             T1      Kenny Perry     98  72.73       22   \n",
      "1             T1             T1  Paul Stankowski    100  72.73       11   \n",
      "2              3              3      David Frost     90  71.43       21   \n",
      "3              4              4     Joel Edwards    101  70.59       17   \n",
      "4             T5             T5    Brian Bateman     94  68.00       25   \n",
      "\n",
      "  PUTTS MADE  \n",
      "0         16  \n",
      "1          8  \n",
      "2         15  \n",
      "3         12  \n",
      "4         17  \n",
      "  RANK THIS WEEK RANK LAST WEEK         PLAYER NAME ROUNDS   AVG.  \\\n",
      "0              1              1           John Daly     62  306.8   \n",
      "1              2              2         Boo Weekley     57  297.0   \n",
      "2              3              3       Mathew Goggin     64  296.1   \n",
      "3             T4             T4  Charles Howell III    118  293.7   \n",
      "4             T4             T4      Dennis Paulson     89  293.7   \n",
      "\n",
      "  TOTAL DISTANCE TOTAL DRIVES  \n",
      "0         35,594          116  \n",
      "1         33,261          112  \n",
      "2         36,713          124  \n",
      "3         64,019          218  \n",
      "4         50,520          172  \n"
     ]
    }
   ],
   "source": [
    "#Use function to get 2002 PGA putting data and driving data\n",
    "putt_02_df = pga_url_to_df(url = 'https://www.pgatour.com/stats/stat.348.2002.html')\n",
    "print(putt_02_df.head())\n",
    "\n",
    "drive_02_df = pga_url_to_df(url = 'https://www.pgatour.com/stats/stat.101.2002.html')\n",
    "print(drive_02_df.head())"
   ]
  },
  {
   "cell_type": "code",
   "execution_count": 4,
   "metadata": {},
   "outputs": [
    {
     "name": "stdout",
     "output_type": "stream",
     "text": [
      "  RANK THIS WEEK RANK LAST WEEK         PLAYER NAME ROUNDS % MADE ATTEMPTS  \\\n",
      "0              1              1  Rafa Cabrera Bello     63  66.67       27   \n",
      "1              2              2   Xander Schauffele     96  60.00       30   \n",
      "2              3              3      Dustin Johnson     77  59.52       42   \n",
      "3              4              4         Luke Donald     50  58.33       24   \n",
      "4              5              5        Cody Gribble     79  58.00       50   \n",
      "\n",
      "  PUTTS MADE  \n",
      "0         18  \n",
      "1         18  \n",
      "2         25  \n",
      "3         14  \n",
      "4         29  \n",
      "  RANK THIS WEEK RANK LAST WEEK     PLAYER NAME ROUNDS   AVG. TOTAL DISTANCE  \\\n",
      "0              1              1    Rory McIlroy     51  316.7         26,600   \n",
      "1              2              2  Dustin Johnson     77  314.4         40,241   \n",
      "2              3              3    Brandon Hagy     85  312.7         48,162   \n",
      "3              4              4       Luke List    102  311.5         61,046   \n",
      "4              5              5    Andrew Loupe     55  311.3         32,371   \n",
      "\n",
      "  TOTAL DRIVES  \n",
      "0           84  \n",
      "1          128  \n",
      "2          154  \n",
      "3          196  \n",
      "4          104  \n"
     ]
    }
   ],
   "source": [
    "#Use function to get 2017 PGA putting data and driving data\n",
    "putt_17_df = pga_url_to_df(url = 'https://www.pgatour.com/stats/stat.348.2017.html')\n",
    "print(putt_17_df.head())\n",
    "\n",
    "drive_17_df = pga_url_to_df(url = 'https://www.pgatour.com/stats/stat.101.2017.html')\n",
    "print(drive_17_df.head())"
   ]
  },
  {
   "cell_type": "code",
   "execution_count": 5,
   "metadata": {},
   "outputs": [
    {
     "name": "stdout",
     "output_type": "stream",
     "text": [
      "  RANK THIS WEEK_x RANK LAST WEEK_x      PLAYER NAME ROUNDS_x % MADE ATTEMPTS  \\\n",
      "0               T1               T1      Kenny Perry       98  72.73       22   \n",
      "1               T1               T1  Paul Stankowski      100  72.73       11   \n",
      "2                3                3      David Frost       90  71.43       21   \n",
      "3                4                4     Joel Edwards      101  70.59       17   \n",
      "4               T5               T5    Brian Bateman       94  68.00       25   \n",
      "\n",
      "  PUTTS MADE RANK THIS WEEK_y RANK LAST WEEK_y ROUNDS_y   AVG. TOTAL DISTANCE  \\\n",
      "0         16               37               37       98  286.4         53,839   \n",
      "1          8               34               34      100  287.0         55,671   \n",
      "2         15              187              187       90  269.5         47,969   \n",
      "3         12              125              125      101  277.6         56,074   \n",
      "4         17              T26              T26       94  288.6         51,363   \n",
      "\n",
      "  TOTAL DRIVES  \n",
      "0          188  \n",
      "1          194  \n",
      "2          178  \n",
      "3          202  \n",
      "4          178  \n",
      "(188, 13)\n",
      "       PLAYER NAME % MADE ATTEMPTS   AVG.\n",
      "0      Kenny Perry  72.73       22  286.4\n",
      "1  Paul Stankowski  72.73       11  287.0\n",
      "2      David Frost  71.43       21  269.5\n",
      "3     Joel Edwards  70.59       17  277.6\n",
      "4    Brian Bateman  68.00       25  288.6\n",
      "<class 'pandas.core.frame.DataFrame'>\n",
      "Int64Index: 188 entries, 0 to 187\n",
      "Data columns (total 4 columns):\n",
      "PLAYER NAME    188 non-null object\n",
      "% MADE         188 non-null object\n",
      "ATTEMPTS       188 non-null object\n",
      "AVG.           188 non-null object\n",
      "dtypes: object(4)\n",
      "memory usage: 7.3+ KB\n",
      "None\n"
     ]
    }
   ],
   "source": [
    "#Merge the dataframes of putting and driving for each year together\n",
    "\"\"\"Now we need to merge (using pd.merge()) our two DataFrames for 2002 on the PLAYER NAME column, which is common to both DFs.  \n",
    "Set the on= parameter to PLAYER NAME as our column to merge on\"\"\" \n",
    "\n",
    "golf_data_02 = pd.merge(putt_02_df, drive_02_df, on='PLAYER NAME')\n",
    "print(golf_data_02.head())\n",
    "print(golf_data_02.shape)\n",
    "\n",
    "#Select only required columns\n",
    "golf_data_02 = golf_data_02.loc[:, ('PLAYER NAME', '% MADE', 'ATTEMPTS', 'AVG.')]\n",
    "print(golf_data_02.head())\n",
    "print(golf_data_02.info())"
   ]
  },
  {
   "cell_type": "code",
   "execution_count": 6,
   "metadata": {},
   "outputs": [
    {
     "name": "stdout",
     "output_type": "stream",
     "text": [
      "       PLAYER NAME  % MADE  ATTEMPTS   AVG.\n",
      "0      Kenny Perry   72.73        22  286.4\n",
      "1  Paul Stankowski   72.73        11  287.0\n",
      "2      David Frost   71.43        21  269.5\n",
      "3     Joel Edwards   70.59        17  277.6\n",
      "4    Brian Bateman   68.00        25  288.6\n",
      "<class 'pandas.core.frame.DataFrame'>\n",
      "Int64Index: 188 entries, 0 to 187\n",
      "Data columns (total 4 columns):\n",
      "PLAYER NAME    188 non-null object\n",
      "% MADE         188 non-null float64\n",
      "ATTEMPTS       188 non-null int64\n",
      "AVG.           188 non-null float64\n",
      "dtypes: float64(2), int64(1), object(1)\n",
      "memory usage: 7.3+ KB\n",
      "None\n"
     ]
    }
   ],
   "source": [
    "#Deal with column data types and any missing values\n",
    "\"\"\"We can see from our .info call that all the cols are object type, this should be looked at as clearly there are a number of \n",
    "cols that should be int or float type.\"\"\"\n",
    "golf_data_02['% MADE'] = pd.to_numeric(golf_data_02['% MADE'], errors='coerce')\n",
    "golf_data_02['ATTEMPTS'] = pd.to_numeric(golf_data_02['ATTEMPTS'], errors='coerce')\n",
    "golf_data_02['AVG.'] = pd.to_numeric(golf_data_02['AVG.'], errors='coerce')\n",
    "\n",
    "print(golf_data_02.head())\n",
    "print(golf_data_02.info())"
   ]
  },
  {
   "cell_type": "code",
   "execution_count": 7,
   "metadata": {},
   "outputs": [
    {
     "name": "stdout",
     "output_type": "stream",
     "text": [
      "          PLAYER NAME % MADE ATTEMPTS   AVG.\n",
      "0  Rafa Cabrera Bello  66.67       27  291.0\n",
      "1   Xander Schauffele  60.00       30  306.3\n",
      "2      Dustin Johnson  59.52       42  314.4\n",
      "3         Luke Donald  58.33       24  278.5\n",
      "4        Cody Gribble  58.00       50  297.2\n",
      "<class 'pandas.core.frame.DataFrame'>\n",
      "Int64Index: 190 entries, 0 to 189\n",
      "Data columns (total 4 columns):\n",
      "PLAYER NAME    190 non-null object\n",
      "% MADE         190 non-null object\n",
      "ATTEMPTS       190 non-null object\n",
      "AVG.           190 non-null object\n",
      "dtypes: object(4)\n",
      "memory usage: 7.4+ KB\n",
      "None\n"
     ]
    }
   ],
   "source": [
    "#Repeat the merging and cleaning process for the 2017 data\n",
    "golf_data_17 = pd.merge(putt_17_df, drive_17_df, on='PLAYER NAME')\n",
    "\n",
    "#Select only required columns\n",
    "golf_data_17 = golf_data_17.loc[:, ('PLAYER NAME', '% MADE', 'ATTEMPTS', 'AVG.')]\n",
    "print(golf_data_17.head())\n",
    "print(golf_data_17.info())"
   ]
  },
  {
   "cell_type": "code",
   "execution_count": 8,
   "metadata": {},
   "outputs": [
    {
     "name": "stdout",
     "output_type": "stream",
     "text": [
      "          PLAYER NAME  % MADE  ATTEMPTS   AVG.\n",
      "0  Rafa Cabrera Bello   66.67        27  291.0\n",
      "1   Xander Schauffele   60.00        30  306.3\n",
      "2      Dustin Johnson   59.52        42  314.4\n",
      "3         Luke Donald   58.33        24  278.5\n",
      "4        Cody Gribble   58.00        50  297.2\n",
      "<class 'pandas.core.frame.DataFrame'>\n",
      "Int64Index: 190 entries, 0 to 189\n",
      "Data columns (total 4 columns):\n",
      "PLAYER NAME    190 non-null object\n",
      "% MADE         190 non-null float64\n",
      "ATTEMPTS       190 non-null int64\n",
      "AVG.           190 non-null float64\n",
      "dtypes: float64(2), int64(1), object(1)\n",
      "memory usage: 7.4+ KB\n",
      "None\n"
     ]
    }
   ],
   "source": [
    "#Deal with column data types and any missing values\n",
    "golf_data_17['% MADE'] = pd.to_numeric(golf_data_17['% MADE'], errors='coerce')\n",
    "golf_data_17['ATTEMPTS'] = pd.to_numeric(golf_data_17['ATTEMPTS'], errors='coerce')\n",
    "golf_data_17['AVG.'] = pd.to_numeric(golf_data_17['AVG.'], errors='coerce')\n",
    "\n",
    "print(golf_data_17.head())\n",
    "print(golf_data_17.info())"
   ]
  },
  {
   "cell_type": "markdown",
   "metadata": {},
   "source": [
    "##**Analysis**\n",
    "###**Initial EDA**\n",
    "Lets take a quick look at some descriptive stats from our DataFrames."
   ]
  },
  {
   "cell_type": "code",
   "execution_count": 9,
   "metadata": {},
   "outputs": [
    {
     "name": "stdout",
     "output_type": "stream",
     "text": [
      "           % MADE    ATTEMPTS        AVG.\n",
      "count  188.000000  188.000000  188.000000\n",
      "mean    44.471223   18.946809  279.631915\n",
      "std     11.680100    5.607228    7.279555\n",
      "min     10.000000   10.000000  256.600000\n",
      "25%     35.927500   15.000000  274.775000\n",
      "50%     44.830000   19.000000  279.950000\n",
      "75%     52.380000   22.000000  284.550000\n",
      "max     72.730000   34.000000  297.000000\n",
      "           % MADE    ATTEMPTS        AVG.\n",
      "count  190.000000  190.000000  190.000000\n",
      "mean    41.775632   43.847368  292.570000\n",
      "std      7.994311   11.767720    9.366421\n",
      "min     21.950000   17.000000  270.100000\n",
      "25%     37.500000   36.000000  286.500000\n",
      "50%     41.240000   44.000000  292.500000\n",
      "75%     46.630000   52.750000  298.475000\n",
      "max     66.670000   70.000000  316.700000\n"
     ]
    }
   ],
   "source": [
    "#Basic EDA\n",
    "print(golf_data_02.describe())\n",
    "print(golf_data_17.describe())"
   ]
  },
  {
   "cell_type": "markdown",
   "metadata": {},
   "source": [
    "**Driving** - Note the mean average driving distance (AVG.) was 279.63 yards in 2002, but increases to 292.57 in 2017.\n",
    "\n",
    "**Putting** - The mean percentage of putts made from 10 feet was 44.47% in 2002, but *falls* to 41.24% in 2017.  This is odd, we should definitely look into this further."
   ]
  },
  {
   "cell_type": "markdown",
   "metadata": {},
   "source": [
    "###**ECDF's**\n",
    "\n",
    "Lets look at the empirical cumulative distribution functions for both driving and putting in the 2 years.  To do this I'll use a function to help compute the ECDF."
   ]
  },
  {
   "cell_type": "code",
   "execution_count": 10,
   "metadata": {
    "collapsed": true
   },
   "outputs": [],
   "source": [
    "#Import required modules\n",
    "import numpy as np\n",
    "\n",
    "#Define our ECDF function\n",
    "def ecdf(data):\n",
    "    \"\"\"Compute ECDF for a 1D array of measurements\"\"\"\n",
    "    #Compute number of data points:n\n",
    "    n = len(data)\n",
    "    #x-data for the ECDF:x\n",
    "    x = np.sort(data)\n",
    "    #y-data for the ECDF:y\n",
    "    y = np.arange(1, n+1)/n\n",
    "    return x, y"
   ]
  },
  {
   "cell_type": "code",
   "execution_count": 11,
   "metadata": {},
   "outputs": [
    {
     "data": {
      "image/png": "[encoded data removed]",
      "text/plain": [
       "<matplotlib.figure.Figure at 0xb9d15f8>"
      ]
     },
     "metadata": {},
     "output_type": "display_data"
    }
   ],
   "source": [
    "#Use function for driving stat\n",
    "x_drive_02, y_drive_02 = ecdf(golf_data_02['AVG.'])\n",
    "x_drive_17, y_drive_17 = ecdf(golf_data_17['AVG.'])\n",
    "\n",
    "#Plot the ECDF's\n",
    "import matplotlib.pyplot as plt\n",
    "import seaborn as sns    \n",
    "\n",
    "#Set Seaborn as default\n",
    "sns.set()\n",
    "\n",
    "#Generate plot\n",
    "_ = plt.plot(x_drive_02, y_drive_02, marker = '.', linestyle = 'none')\n",
    "_ = plt.plot(x_drive_17, y_drive_17, marker = '.', linestyle = 'none')\n",
    "\n",
    "#Add a margin to the plot\n",
    "plt.margins(0.02)\n",
    "\n",
    "#Add labels\n",
    "_ = plt.xlabel('Avg Drive (Yards)')\n",
    "_ = plt.ylabel('ECDF')\n",
    "_ = plt.title('ECDF of Average Driving Distance on the PGA Tour')\n",
    "_ = plt.legend(('2002', '2017'), loc='lower right')\n",
    "\n",
    "#Display the plot\n",
    "plt.show()"
   ]
  },
  {
   "cell_type": "markdown",
   "metadata": {},
   "source": [
    "The ECDF for driving makes it very clear, there has been a large tour-wide improvement in driving distance between 2002 and 2017, as we expected."
   ]
  },
  {
   "cell_type": "code",
   "execution_count": 12,
   "metadata": {},
   "outputs": [
    {
     "data": {
      "image/png": "[encoded data removed]",
      "text/plain": [
       "<matplotlib.figure.Figure at 0xb736898>"
      ]
     },
     "metadata": {},
     "output_type": "display_data"
    }
   ],
   "source": [
    "#Use function for putting stat\n",
    "x_putt_02, y_putt_02 = ecdf(golf_data_02['% MADE'])\n",
    "x_putt_17, y_putt_17 = ecdf(golf_data_17['% MADE'])\n",
    "\n",
    "#Plot the ECDF's\n",
    "_ = plt.plot(x_putt_02, y_putt_02, marker = '.', linestyle = 'none')\n",
    "_ = plt.plot(x_putt_17, y_putt_17, marker = '.', linestyle = 'none')\n",
    "\n",
    "#Add a margin to the plot\n",
    "plt.margins(0.02)\n",
    "\n",
    "#Add labels\n",
    "_ = plt.xlabel('Putts Made from 10 Feet (%)')\n",
    "_ = plt.ylabel('ECDF')\n",
    "_ = plt.title('ECDF of Putts from 10 Feet on the PGA Tour')\n",
    "_ = plt.legend(('2002', '2017'), loc='lower right')\n",
    "\n",
    "#Display the plot\n",
    "plt.show()"
   ]
  },
  {
   "cell_type": "markdown",
   "metadata": {},
   "source": [
    "The ECDF for putting is far less clear.  The variance in the 2002 data is larger, as is the mean.  Lets take a closer look at putting."
   ]
  },
  {
   "cell_type": "markdown",
   "metadata": {},
   "source": [
    "###**Parameter Estimates**\n",
    "Here I'll estimate the difference of the mean putts made % of the samples from 2002 and 2017.  I'll then report a 95% confidence interval of this difference of means.  I'll be using hacker statistics for this part of the analysis, defining some functions to help with the task. "
   ]
  },
  {
   "cell_type": "code",
   "execution_count": 13,
   "metadata": {
    "collapsed": true
   },
   "outputs": [],
   "source": [
    "#Bootstrap replicate function - to create 1 replicate\n",
    "def bootstrap_replicate_1d(data, func):\n",
    "    \"\"\"Generate bootstrap replicate of 1D data\"\"\"\n",
    "    bs_sample = np.random.choice(data, len(data))\n",
    "    return func(bs_sample)\n",
    "\n",
    "#Write a new function that uses bootstrap_replicate_1d() to create many bootstrap replicates, draw_bs_reps()\n",
    "    \n",
    "#Create many bootstrap replicates: draw_bs_reps()\n",
    "def draw_bs_reps(data, func, size=1):\n",
    "    \"\"\"Draw bootstrap replicates\"\"\"\n",
    "    #Initialize array of replicates: bs_replicates\n",
    "    bs_replicates = np.empty(size)\n",
    "    \n",
    "    #Generate replicates\n",
    "    for i in range(size):\n",
    "        bs_replicates[i] = bootstrap_replicate_1d(data, func)\n",
    "        \n",
    "    return bs_replicates"
   ]
  },
  {
   "cell_type": "code",
   "execution_count": 14,
   "metadata": {},
   "outputs": [
    {
     "name": "stdout",
     "output_type": "stream",
     "text": [
      "difference of means = -2.6955918253079574 %\n",
      "95% confidence interval = [-4.69856449 -0.72418063] %\n"
     ]
    }
   ],
   "source": [
    "#Compute the difference of the sample means:mean_diff\n",
    "mean_diff = np.mean(golf_data_17['% MADE']) - np.mean(golf_data_02['% MADE'])\n",
    "\n",
    "#Get bootstrap replicates of means\n",
    "bs_replicates_02 = draw_bs_reps(golf_data_02['% MADE'], np.mean, 10000)\n",
    "bs_replicates_17 = draw_bs_reps(golf_data_17['% MADE'], np.mean, 10000)\n",
    "\n",
    "#Compute samples of difference of means: bs_diff_replicates\n",
    "bs_diff_replicates = bs_replicates_17 - bs_replicates_02\n",
    "\n",
    "#Compute 95% confidence interval: conf_int\n",
    "conf_int = np.percentile(bs_diff_replicates, [2.5, 97.5])\n",
    "\n",
    "#Print results\n",
    "print('difference of means =', mean_diff, '%')\n",
    "print('95% confidence interval =', conf_int, '%')"
   ]
  },
  {
   "cell_type": "markdown",
   "metadata": {},
   "source": [
    "This difference of means and 95% C.I. suggests that putting ability might have gotten worse since 2002!  Is this effect down to random chance?  ie, what is the probability that we would get the observed difference in mean putts made % if the means were the same?\n",
    "Lets check this using a hypothesis test."
   ]
  },
  {
   "cell_type": "markdown",
   "metadata": {},
   "source": [
    "###**Hypothesis Test**\n",
    "**Null hypothesis** - Players in 2017 are as good at putting as those in 2002.\n",
    "ie, the mean % of putts made from 10 feet for both groups are equal.\n",
    "\n",
    "**Alternative hypothesis** - that players in 2017 are not as good at putting as \n",
    "those in 2002, ie, the mean % of putts made from 10 feet from the 2017 players \n",
    "is lower than that of the 2002 players."
   ]
  },
  {
   "cell_type": "code",
   "execution_count": 15,
   "metadata": {},
   "outputs": [
    {
     "name": "stdout",
     "output_type": "stream",
     "text": [
      "p = 0.0042\n"
     ]
    }
   ],
   "source": [
    "#Compute mean of combined data set: combined_mean\n",
    "combined_mean = np.mean(np.concatenate((golf_data_02['% MADE'], golf_data_17['% MADE'])))\n",
    "\n",
    "#Shift the samples\n",
    "putt_02_shifted = golf_data_02['% MADE'] - np.mean(golf_data_02['% MADE']) + combined_mean\n",
    "putt_17_shifted = golf_data_17['% MADE'] - np.mean(golf_data_17['% MADE']) + combined_mean\n",
    "\n",
    "#Get bootstrap replicates of the shifted data sets\n",
    "bs_replicates_putt_02 = draw_bs_reps(putt_02_shifted, np.mean, 10000)\n",
    "bs_replicates_putt_17 = draw_bs_reps(putt_17_shifted, np.mean, 10000)\n",
    "\n",
    "#Compute replicates of difference of means: bs_diff_replicates_putt\n",
    "bs_diff_replicates_putt = bs_replicates_putt_17 - bs_replicates_putt_02\n",
    "\n",
    "#Compute and print the p-value\n",
    "p = np.sum(bs_diff_replicates_putt <= mean_diff) / len(bs_diff_replicates_putt)\n",
    "print('p =', p)"
   ]
  },
  {
   "cell_type": "markdown",
   "metadata": {},
   "source": [
    "###**Conclusion**\n",
    "A p-value of **0.0042** suggests there **is** a statistically significant difference.  I'm inclined to reject the null hypothesis and accept the alternative hypothesis, players in 2017 are not as good at putting as those in 2002.\n",
    "\n",
    "###**Further thoughts**\n",
    "There's no doubt todays players drive the ball further than their 2002 cohort, so why has one area of the game improved so markedly yet another equally important area of the game, putting, seemingly haven gotten worse?  Are todays players *actually* worse at putting or are there other reasons that explain the difference?  If so what are those differences?\n",
    "\n",
    "**Potential Explanations**\n",
    "- Are pin positions put in more tricky places on greens nowadays compared to 2002?  It would be understandable if the PGA Tour tried to offset for players hitting the ball further by making putting *intentionally harder* in an effort to maintain the overall difficulty level of a golf course.\n",
    "- Are todays players simply focusing so much on hitting the ball further that they are spending less time on improving their putting?  If you're in the gym pumping iron you cant be practicing your putting at the same time!\n",
    "- On a related theme, is there a biomechanical aspect? Are the bigger muscles in the arms of modern players that help their driving a detriment to accurate putting, an area of the game that relies far more on feel and touch?\n",
    "- Equipment.  Are club manufacturers (inadvertently) using inferior materials/designs in the production of modern putters compared to 2002?  This seems highly unlikely.  Its more likely that the putter is a fairly basic club compared to a driver, with limited opportunity for a club manufacturer to make a real breakthrough in performance through a redesign.\n",
    "\n",
    "If there is one takeaway for the average amateur golfer from this analysis its this, if your going to spend a lot of money on one golf club, make it a driver, not a putter.  There's no evidence here that putters have improved since 2002.\n",
    "\n",
    "##**Further Analysis**\n",
    "How could this analysis be expanded to make its conclusion more robust (or debunked)?  Well i've only taken a snapshot from two years, what if either 2002 or 2017 were outliers to the general putting trend?  Repeating the analysis with data from 2003 and 2016 could prove enlightening here."
   ]
  }
 ],
 "metadata": {
  "kernelspec": {
   "display_name": "Python 3",
   "language": "python",
   "name": "python3"
  },
  "language_info": {
   "codemirror_mode": {
    "name": "ipython",
    "version": 3
   },
   "file_extension": ".py",
   "mimetype": "text/x-python",
   "name": "python",
   "nbconvert_exporter": "python",
   "pygments_lexer": "ipython3",
   "version": "3.6.3"
  }
 },
 "nbformat": 4,
 "nbformat_minor": 2
}
